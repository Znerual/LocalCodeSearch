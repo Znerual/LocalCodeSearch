{
 "cells": [
  {
   "cell_type": "code",
   "execution_count": 1,
   "metadata": {},
   "outputs": [],
   "source": [
    "import pymongo\n",
    "from datetime import datetime"
   ]
  },
  {
   "attachments": {},
   "cell_type": "markdown",
   "metadata": {},
   "source": [
    "# MongoDB\n",
    "In order to use the MongoDB, you need to install it on the machine. This can be done by downloading the deb file from their website. Afterwards, the database needs to be started. This can be done from the terminal by running the \n",
    "```bash\n",
    "mongod --dbpath /data/db\n",
    "```\n",
    "command. The `--dbpath` argument specifies the path where the data will be saved. \n",
    "\n",
    "Afterwards, you can connect either via `mongo` command in another terminal, or via the Python module.\n",
    "\n",
    "The database can be queried by first connecting to the database using the `use` command. Afterwards, the find command can be used to query the database:\n",
    "```db.mycollection.find({ name: \"John\" })```"
   ]
  },
  {
   "cell_type": "code",
   "execution_count": null,
   "metadata": {},
   "outputs": [],
   "source": [
    "def project_dict(name, root_dir, creation_date=datetime.now(), modify_date=datetime.now(), crawl_date=datetime.now()):\n",
    "    return {\"name\": name, \"root_dir\" : root_dir, \"creation_date\": creation_date, \"modify_date\": modify_date, \"crawl_date\": crawl_date}\n",
    "\n",
    "def class_dict(code_file_id, checksum, name, function_ids = [], imports=[], comments=[], code=\"\", summary=\"\"):\n",
    "    return {\"code_file_id\": code_file_id, \"checksum\" : checksum, \"name\": name, \"function_ids\" : function_ids, \"imports\" : imports, \"comments\" : comments, \"code\": code, \"summary\" : summary}\n",
    "\n",
    "def function_dict(code_file_id, checksum, name, code, imports=[], imports_aliases=[], docstring=\"\", comments=[], summary=\"\", line_start=0, line_end=-1):\n",
    "    return {\"code_file_id\":  code_file_id, \"checksum\" : checksum, \"name\": name, \"code\": code, \"imports\" : imports, \"imports_aliases\" : imports_aliases, \"docstring\" : docstring, \"comments\" : comments,  \"summary\" : summary, \"line_start\": line_start, \"line_end\": line_end}\n",
    "\n",
    "def code_files_dict(project_id, module, file_path, file_name, checksum, summary=\"\", class_ids=[], function_ids=[], comments=[], modify_date=datetime.now(), creation_date=datetime.now(), crawl_date=datetime.now()):\n",
    "    return {\"project_id\": project_id, \"checksum\" : checksum, \"module\" : module, \"file_path\" : file_path, \"file_name\" : file_name, \"summary\" : summary, \"class_ids\" : class_ids, \"function_ids\" : function_ids, \"comments\" : comments, \"modify_date\" : modify_date, \"creation_date\" : creation_date, \"crawl_date\" : crawl_date}\n",
    "\n",
    "def other_files_dict(project_id, module, file_path, file_name, checksum, summary=\"\", modify_date=datetime.now(), creation_date=datetime.now(), crawl_date=datetime.now()):\n",
    "    return {\"project_id\": project_id, \"module\" : module, \"file_path\" : file_path, \"file_name\" : file_name, \"checksum\" : checksum, \"summary\" : summary, \"modify_date\" : modify_date, \"creation_date\" : creation_date, \"crawl_date\" : crawl_date}"
   ]
  },
  {
   "cell_type": "code",
   "execution_count": 4,
   "metadata": {},
   "outputs": [
    {
     "name": "stdout",
     "output_type": "stream",
     "text": [
      "63ef7df306c01281f470add2\n"
     ]
    }
   ],
   "source": [
    "# Connect to the local MongoDB instance\n",
    "client = pymongo.MongoClient(\"mongodb://localhost:27017/\")\n",
    "\n",
    "# Create a new database called \"my_database\"\n",
    "db = client[\"CodeIndex\"]\n",
    "\n",
    "# Create a new collection called \"code_summaries\"\n",
    "code_files = db[\"code_files\"]\n",
    "code_classes = db[\"code_classes\"]\n",
    "code_functions = db[\"code_functions\"]\n",
    "\n",
    "projects = db[\"projects\"]\n",
    "\n",
    "project_creation_date = datetime.now()\n",
    "project_id = projects.insert_one(project_dict(\"project1\", project_creation_date)).inserted_id\n",
    "\n",
    "class_ids = code_classes.insert_many([class_dict(project_id, \"class1\", \"\"),\n",
    "                                      class_dict(project_id, \"class2\", \"\")]).inserted_ids\n",
    "\n",
    "function_ids = code_functions.insert_one(function_dict(project_id, class_ids[0], \"test\", \"def test():¸\\npass\", 0, 2)).inserted_id\n",
    "\n",
    "# Insert the document into the collection\n",
    "result = code_files.insert_one(code_files_dict(\"project1\", \"module1\", \"filename1\", class_ids, function_ids, project_creation_date, project_creation_date, project_creation_date))\n",
    "\n",
    "# Print the ID of the inserted document\n",
    "print(result.inserted_id)"
   ]
  },
  {
   "cell_type": "code",
   "execution_count": null,
   "metadata": {},
   "outputs": [],
   "source": []
  }
 ],
 "metadata": {
  "kernelspec": {
   "display_name": "venv",
   "language": "python",
   "name": "python3"
  },
  "language_info": {
   "codemirror_mode": {
    "name": "ipython",
    "version": 3
   },
   "file_extension": ".py",
   "mimetype": "text/x-python",
   "name": "python",
   "nbconvert_exporter": "python",
   "pygments_lexer": "ipython3",
   "version": "3.11.2"
  },
  "orig_nbformat": 4,
  "vscode": {
   "interpreter": {
    "hash": "3849d26a8826ad15eba9988c6878ebb15c4874dc4dc95078f5fc82db68be80a8"
   }
  }
 },
 "nbformat": 4,
 "nbformat_minor": 2
}
