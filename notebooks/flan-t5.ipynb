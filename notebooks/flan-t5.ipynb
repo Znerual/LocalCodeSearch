{
 "cells": [
  {
   "cell_type": "code",
   "execution_count": 1,
   "metadata": {},
   "outputs": [
    {
     "name": "stderr",
     "output_type": "stream",
     "text": [
      "/home/ruzickal/Code/Environments/Py310TF/lib/python3.10/site-packages/tqdm/auto.py:22: TqdmWarning: IProgress not found. Please update jupyter and ipywidgets. See https://ipywidgets.readthedocs.io/en/stable/user_install.html\n",
      "  from .autonotebook import tqdm as notebook_tqdm\n"
     ]
    },
    {
     "ename": "",
     "evalue": "",
     "output_type": "error",
     "traceback": [
      "\u001b[1;31mCanceled future for execute_request message before replies were done"
     ]
    },
    {
     "ename": "",
     "evalue": "",
     "output_type": "error",
     "traceback": [
      "\u001b[1;31mThe Kernel crashed while executing code in the the current cell or a previous cell. Please review the code in the cell(s) to identify a possible cause of the failure. Click <a href='https://aka.ms/vscodeJupyterKernelCrash'>here</a> for more info. View Jupyter <a href='command:jupyter.viewOutput'>log</a> for further details."
     ]
    }
   ],
   "source": [
    "import os\n",
    "import time\n",
    "\n",
    "import torch\n",
    "from transformers import AutoModelForSeq2SeqLM, AutoTokenizer\n",
    "\n",
    "model_name = \"jordiclive/flan-t5-11b-summarizer-filtered-1.5-epoch\"\n",
    "tokenizer = AutoTokenizer.from_pretrained(model_name)\n",
    "#kwargs = dict(device_map=\"balanced_low_0\", torch_dtype=torch.bfloat16)\n",
    "\n",
    "t_start = time.time()\n",
    "local_rank = int(os.getenv(\"LOCAL_RANK\", \"0\"))\n",
    "world_size = torch.cuda.device_count()\n",
    "target_length = 150\n",
    "max_source_length = 512\n",
    "\n",
    "model = AutoModelForSeq2SeqLM.from_pretrained(model_name, torch_dtype=torch.bfloat16)\n",
    "# Prompts should be formatted with a colon at the end so that the input to the model is formatted as\n",
    "# e.g. \"Summarize the following: \\n\\n  <input text>\"\n",
    "example_prompts = {\n",
    "    \"social\": \"Produce a short summary of the following social media post:\",\n",
    "    \"ten\": \"Summarize the following article in 10-20 words:\",\n",
    "    \"5\": \"Summarize the following article in 0-5 words:\",\n",
    "    \"100\": \"Summarize the following article in about 100 words:\",\n",
    "    \"summary\": \"Write a ~ 100 word summary of the following text:\",\n",
    "    \"short\": \"Provide a short summary of the following article:\",\n",
    "}\n",
    "\n",
    "\n",
    "def generate(inputs, max_source_length=512, summarization_type=None, prompt=None):\n",
    "    \"\"\"returns a list of zipped inputs, outputs and number of new tokens\"\"\"\n",
    "\n",
    "    if prompt is not None:\n",
    "        inputs = [f\"{prompt.strip()} \\n\\n {i.strip()}\" for i in inputs]\n",
    "    if summarization_type is not None:\n",
    "        inputs = [\n",
    "            f\"{example_prompts[summarization_type].strip()} \\n\\n {i.strip()}\"\n",
    "            for i in inputs\n",
    "        ]\n",
    "    if summarization_type is None and prompt is None:\n",
    "        inputs = [f\"Summarize the following: \\n\\n {i.strip()}\" for i in inputs]\n",
    "    input_tokens = tokenizer.batch_encode_plus(\n",
    "        inputs,\n",
    "        max_length=max_source_length,\n",
    "        padding=\"max_length\",\n",
    "        truncation=True,\n",
    "        return_tensors=\"pt\",\n",
    "    )\n",
    "    for t in input_tokens:\n",
    "        if torch.is_tensor(input_tokens[t]):\n",
    "            input_tokens[t] = input_tokens[t].to(\"cpu\")\n",
    "\n",
    "    outputs = model.generate(\n",
    "        **input_tokens,\n",
    "        use_cache=True,\n",
    "        num_beams=5,\n",
    "        min_length=5,\n",
    "        max_new_tokens=target_length,\n",
    "        no_repeat_ngram_size=3,\n",
    "    )\n",
    "\n",
    "    input_tokens_lengths = [x.shape[0] for x in input_tokens.input_ids]\n",
    "    output_tokens_lengths = [x.shape[0] for x in outputs]\n",
    "\n",
    "    total_new_tokens = [\n",
    "        o - i for i, o in zip(input_tokens_lengths, output_tokens_lengths)\n",
    "    ]\n",
    "    outputs = tokenizer.batch_decode(outputs, skip_special_tokens=True)\n",
    "\n",
    "    return inputs, outputs, total_new_tokens\n",
    "\n",
    "\n",
    "\n"
   ]
  },
  {
   "cell_type": "code",
   "execution_count": null,
   "metadata": {},
   "outputs": [],
   "source": []
  }
 ],
 "metadata": {
  "kernelspec": {
   "display_name": "Py310TF",
   "language": "python",
   "name": "python3"
  },
  "language_info": {
   "codemirror_mode": {
    "name": "ipython",
    "version": 3
   },
   "file_extension": ".py",
   "mimetype": "text/x-python",
   "name": "python",
   "nbconvert_exporter": "python",
   "pygments_lexer": "ipython3",
   "version": "3.10.6"
  },
  "orig_nbformat": 4,
  "vscode": {
   "interpreter": {
    "hash": "7fb44cecf14dfd8da4780477b24382cb97a73cb8f35185f19364e110880d8ec3"
   }
  }
 },
 "nbformat": 4,
 "nbformat_minor": 2
}
