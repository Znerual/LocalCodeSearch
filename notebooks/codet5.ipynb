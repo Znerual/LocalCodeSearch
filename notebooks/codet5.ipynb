{
 "cells": [
  {
   "attachments": {},
   "cell_type": "markdown",
   "metadata": {},
   "source": [
    "This model can do code summarization"
   ]
  },
  {
   "cell_type": "code",
   "execution_count": 2,
   "metadata": {},
   "outputs": [
    {
     "name": "stderr",
     "output_type": "stream",
     "text": [
      "/home/ruzickal/Code/Environments/Py310TF/lib/python3.10/site-packages/tqdm/auto.py:22: TqdmWarning: IProgress not found. Please update jupyter and ipywidgets. See https://ipywidgets.readthedocs.io/en/stable/user_install.html\n",
      "  from .autonotebook import tqdm as notebook_tqdm\n",
      "2023-02-16 17:22:27.094801: I tensorflow/core/platform/cpu_feature_guard.cc:193] This TensorFlow binary is optimized with oneAPI Deep Neural Network Library (oneDNN) to use the following CPU instructions in performance-critical operations:  AVX2 FMA\n",
      "To enable them in other operations, rebuild TensorFlow with the appropriate compiler flags.\n",
      "2023-02-16 17:22:30.093957: W tensorflow/compiler/xla/stream_executor/platform/default/dso_loader.cc:64] Could not load dynamic library 'libnvinfer.so.7'; dlerror: libnvinfer.so.7: cannot open shared object file: No such file or directory; LD_LIBRARY_PATH: /usr/local/cuda/lib64:/usr/local/cuda-11.8/lib64:/usr/local/cuda-11.7/lib64:/usr/local/cuda-11/lib64:/usr/local/cuda-10.2/lib64:/usr/local/cuda-12.0/lib64:/usr/local/cuda-12/lib64:\n",
      "2023-02-16 17:22:30.094240: W tensorflow/compiler/xla/stream_executor/platform/default/dso_loader.cc:64] Could not load dynamic library 'libnvinfer_plugin.so.7'; dlerror: libnvinfer_plugin.so.7: cannot open shared object file: No such file or directory; LD_LIBRARY_PATH: /usr/local/cuda/lib64:/usr/local/cuda-11.8/lib64:/usr/local/cuda-11.7/lib64:/usr/local/cuda-11/lib64:/usr/local/cuda-10.2/lib64:/usr/local/cuda-12.0/lib64:/usr/local/cuda-12/lib64:\n",
      "2023-02-16 17:22:30.094254: W tensorflow/compiler/tf2tensorrt/utils/py_utils.cc:38] TF-TRT Warning: Cannot dlopen some TensorRT libraries. If you would like to use Nvidia GPU with TensorRT, please make sure the missing libraries mentioned above are installed properly.\n"
     ]
    },
    {
     "name": "stdout",
     "output_type": "stream",
     "text": [
      "Converts a SVG string to a QImage.\n"
     ]
    }
   ],
   "source": [
    "from transformers import RobertaTokenizer, T5ForConditionalGeneration\n",
    "\n",
    "\n",
    "tokenizer = RobertaTokenizer.from_pretrained('Salesforce/codet5-base-multi-sum')\n",
    "model = T5ForConditionalGeneration.from_pretrained('Salesforce/codet5-base-multi-sum')\n",
    "\n",
    "text = \"\"\"def svg_to_image(string, size=None):\n",
    "if isinstance(string, unicode):\n",
    "    string = string.encode('utf-8')\n",
    "    renderer = QtSvg.QSvgRenderer(QtCore.QByteArray(string))\n",
    "if not renderer.isValid():\n",
    "    raise ValueError('Invalid SVG data.')\n",
    "if size is None:\n",
    "    size = renderer.defaultSize()\n",
    "    image = QtGui.QImage(size, QtGui.QImage.Format_ARGB32)\n",
    "    painter = QtGui.QPainter(image)\n",
    "    renderer.render(painter)\n",
    "return image\"\"\"\n",
    "\n",
    "input_ids = tokenizer(text, return_tensors=\"pt\").input_ids\n",
    "\n",
    "generated_ids = model.generate(input_ids, max_length=60)\n",
    "print(tokenizer.decode(generated_ids[0], skip_special_tokens=True))\n",
    "# this prints: \"Convert a SVG string to a QImage.\"\n"
   ]
  },
  {
   "cell_type": "code",
   "execution_count": 10,
   "metadata": {},
   "outputs": [
    {
     "name": "stdout",
     "output_type": "stream",
     "text": [
      "Initialize the object with the given run_id and optional kwargs.\n"
     ]
    }
   ],
   "source": [
    "text2 = \"\"\"def __init__(self, run_id, auto_save_path: Optional[str]=None, yaml=True, save_at_init=True, **kwargs) -> None:\n",
    "        self.kwargs = kwargs\n",
    "        self.kwargs[\"date\"] = datetime.now().strftime(\"%d.%m.%Y %H:%M\")\n",
    "        self.auto_save_path = auto_save_path\n",
    "        self.yaml = yaml\n",
    "        self.run_id = run_id\n",
    "        \n",
    "        # save to file\n",
    "        if not self.auto_save_path is None and save_at_init:\n",
    "            self.to_file(self.auto_save_path)\"\"\"\n",
    "input_ids = tokenizer(text2, return_tensors=\"pt\").input_ids\n",
    "\n",
    "generated_ids = model.generate(input_ids, max_length=100, early_stopping=True)\n",
    "print(tokenizer.decode(generated_ids[0], skip_special_tokens=True))"
   ]
  },
  {
   "cell_type": "code",
   "execution_count": null,
   "metadata": {},
   "outputs": [],
   "source": []
  }
 ],
 "metadata": {
  "kernelspec": {
   "display_name": "Py310TF",
   "language": "python",
   "name": "python3"
  },
  "language_info": {
   "codemirror_mode": {
    "name": "ipython",
    "version": 3
   },
   "file_extension": ".py",
   "mimetype": "text/x-python",
   "name": "python",
   "nbconvert_exporter": "python",
   "pygments_lexer": "ipython3",
   "version": "3.10.6"
  },
  "orig_nbformat": 4,
  "vscode": {
   "interpreter": {
    "hash": "7fb44cecf14dfd8da4780477b24382cb97a73cb8f35185f19364e110880d8ec3"
   }
  }
 },
 "nbformat": 4,
 "nbformat_minor": 2
}
